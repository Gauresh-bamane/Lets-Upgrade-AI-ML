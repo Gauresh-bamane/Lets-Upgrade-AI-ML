{
 "cells": [
  {
   "cell_type": "markdown",
   "metadata": {},
   "source": [
    "# Q1 : Write a Python program to find the first 20 non-even prime natural numbers."
   ]
  },
  {
   "cell_type": "code",
   "execution_count": null,
   "metadata": {},
   "outputs": [],
   "source": [
    "def nextPrime(num):\n",
    "    while True:\n",
    "        num+=1\n",
    "        for i in range (2,num):\n",
    "            if num%i==0:\n",
    "                break\n",
    "            else:\n",
    "                return num\n",
    "            \n",
    "def primeProducer(N):\n",
    "    num,count=1,1\n",
    "    while count<=N:\n",
    "        num= nextPrime(num)\n",
    "        yield num\n",
    "        count+=1\n",
    "N= int(input('Enter number of prime numbers required: '))      \n",
    "l=[x for x in primeProducer(N)]\n",
    "print (l)"
   ]
  },
  {
   "cell_type": "markdown",
   "metadata": {},
   "source": [
    "# Q2: Write a Python program to implement 15 functions of string.\n"
   ]
  },
  {
   "cell_type": "code",
   "execution_count": null,
   "metadata": {},
   "outputs": [],
   "source": [
    "s='Let\\'sUpgrade AI-ML'\n",
    "print(s.count(''))\n",
    "print(s[9]==s[-9])\n",
    "print(s[1:5])\n",
    "print(s[:4])\n",
    "print(s[1:])\n",
    "print(s[::-1])\n",
    "print(s[-6:-1])\n",
    "print(s.swapcase())\n",
    "print(s.lower())\n",
    "print(s.upper())\n",
    "print(s.isalpha())\n",
    "print(s.replace('L','z'))\n",
    "print(len(s))\n",
    "print(s.find(' '))\n",
    "print(s.find('-',10,19))"
   ]
  },
  {
   "cell_type": "markdown",
   "metadata": {},
   "source": [
    "# Q3: Write a Python program to check if the given string is a Palindrome or Anagram or None of them.Display the message accordingly to the user."
   ]
  },
  {
   "cell_type": "code",
   "execution_count": null,
   "metadata": {},
   "outputs": [],
   "source": [
    "S= input('Enter your word: ').upper()\n",
    "R = (S[::-1])\n",
    "if R==S:\n",
    "    print('Palindrome')\n",
    "else:\n",
    "    S1= sorted(S)\n",
    "    R1= sorted(R)\n",
    "    if S1==R1:\n",
    "        print('Anagram')\n",
    "    else:\n",
    "        print('None')\n",
    "    "
   ]
  },
  {
   "cell_type": "markdown",
   "metadata": {},
   "source": [
    "# Q4: Write a Python's user defined function that removes all the additional characters from the string and converts it finally to lower case using built-in lower(). eg: If the string is \"Dr. Darshan Ingle @AI-ML Trainer\", then the output be \"drdarshaningleaimltrainer\"."
   ]
  },
  {
   "cell_type": "code",
   "execution_count": null,
   "metadata": {},
   "outputs": [],
   "source": [
    "a_string = \"Dr. Darshan Ingle @AI-ML Trainer\"\n",
    "alphanumeric = \"\"\n",
    "\n",
    "\n",
    "for character in a_string:\n",
    "    if character.isalnum():\n",
    "        alphanumeric += character\n",
    "\n",
    "print((alphanumeric.lower()))"
   ]
  }
 ],
 "metadata": {
  "kernelspec": {
   "display_name": "Python 3",
   "language": "python",
   "name": "python3"
  },
  "language_info": {
   "codemirror_mode": {
    "name": "ipython",
    "version": 3
   },
   "file_extension": ".py",
   "mimetype": "text/x-python",
   "name": "python",
   "nbconvert_exporter": "python",
   "pygments_lexer": "ipython3",
   "version": "3.7.6"
  }
 },
 "nbformat": 4,
 "nbformat_minor": 4
}
