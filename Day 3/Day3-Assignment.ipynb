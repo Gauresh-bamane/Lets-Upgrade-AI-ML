{
 "cells": [
  {
   "cell_type": "markdown",
   "metadata": {},
   "source": [
    "# Q1. Write a program to subtract two complex numbers in Python.\n"
   ]
  },
  {
   "cell_type": "code",
   "execution_count": 66,
   "metadata": {},
   "outputs": [
    {
     "name": "stdout",
     "output_type": "stream",
     "text": [
      "(7-4j)\n"
     ]
    }
   ],
   "source": [
    "a= 4+3j\n",
    "b= 3-7j\n",
    "c= a+b\n",
    "print(c)"
   ]
  },
  {
   "cell_type": "markdown",
   "metadata": {},
   "source": [
    "# Q2. Write a program to find the fourth root of a number.\n"
   ]
  },
  {
   "cell_type": "code",
   "execution_count": 67,
   "metadata": {},
   "outputs": [
    {
     "name": "stdout",
     "output_type": "stream",
     "text": [
      "Enter number 46\n",
      "Fourth root of 46.0 = 11.5\n"
     ]
    }
   ],
   "source": [
    "n= float(input('Enter number '))\n",
    "r= n**1/4\n",
    "print('Fourth root of',n,'=',r)"
   ]
  },
  {
   "cell_type": "markdown",
   "metadata": {},
   "source": [
    "# Q3. Write a program to swap two numbers in Python with the help of a temporary variable.\n"
   ]
  },
  {
   "cell_type": "code",
   "execution_count": 68,
   "metadata": {},
   "outputs": [
    {
     "name": "stdout",
     "output_type": "stream",
     "text": [
      "Enter value for A :46\n",
      "Enter value for B:13.2\n",
      "After swapping\n",
      "Value of A:  13.2\n",
      "Value of B:  46.0\n"
     ]
    }
   ],
   "source": [
    "val_1= float(input('Enter value for A :'))\n",
    "val_2= float(input('Enter value for B:'))\n",
    "tem= val_1\n",
    "val_1= val_2\n",
    "val_2= tem \n",
    "print('After swapping')\n",
    "print('Value of A: ',val_1)\n",
    "print('Value of B: ',val_2)"
   ]
  },
  {
   "cell_type": "markdown",
   "metadata": {},
   "source": [
    "# Q4. Write a program to swap two numbers in Python without using a temporary variable.\n"
   ]
  },
  {
   "cell_type": "code",
   "execution_count": 70,
   "metadata": {},
   "outputs": [
    {
     "name": "stdout",
     "output_type": "stream",
     "text": [
      "Enter value for A:1\n",
      "Enter value for B: 12\n",
      "After swapping\n",
      "Value of A: 12\n",
      "Value of B: 1\n"
     ]
    }
   ],
   "source": [
    "A= int(input('Enter value for A:'))\n",
    "B= int(input('Enter value for B: '))\n",
    "A= A+B\n",
    "B= A-B\n",
    "A= A-B\n",
    "print('After swapping')\n",
    "print('Value of A:',A)\n",
    "print('Value of B:',B)\n"
   ]
  },
  {
   "cell_type": "markdown",
   "metadata": {},
   "source": [
    "# Q5. Write a program to convert fahrenheit to kelvin and celsius both.\n"
   ]
  },
  {
   "cell_type": "code",
   "execution_count": 71,
   "metadata": {},
   "outputs": [
    {
     "name": "stdout",
     "output_type": "stream",
     "text": [
      "Enter Fahrenheit value to be converted:123.13\n",
      "Temprature in Kelvin is  324.1277777777778\n",
      "Temprature in Clesius is  50.62777777777777\n"
     ]
    }
   ],
   "source": [
    "fahrenheit= float(input('Enter Fahrenheit value to be converted:'))\n",
    "kelvin= 273.5 + ((fahrenheit - 32.0) * (5.0/9.0))\n",
    "celsius=(fahrenheit - 32) * 5/9\n",
    "print('Temprature in Kelvin is ',kelvin)\n",
    "print('Temprature in Clesius is ',celsius)"
   ]
  },
  {
   "cell_type": "markdown",
   "metadata": {},
   "source": [
    "# Q6. Write a program to demonstrate all the available data types in Python. Hint: Use type() function.\n",
    "\n"
   ]
  },
  {
   "cell_type": "markdown",
   "metadata": {},
   "source": [
    "1. Numeric- Integer, Float and Complex\n"
   ]
  },
  {
   "cell_type": "code",
   "execution_count": 69,
   "metadata": {},
   "outputs": [
    {
     "name": "stdout",
     "output_type": "stream",
     "text": [
      "Examples of Numerical data types\n",
      "Type of X:  <class 'int'>\n",
      "Type of Y:  <class 'float'>\n",
      "Type of Z:  <class 'complex'>\n"
     ]
    }
   ],
   "source": [
    "print('Examples of Numerical data types')\n",
    "X = 5\n",
    "print(\"Type of X: \", type(X)) \n",
    "Y = 5.0\n",
    "print(\"Type of Y: \", type(Y)) \n",
    "Z = 2 + 4j\n",
    "print(\"Type of Z: \", type(Z)) \n"
   ]
  },
  {
   "cell_type": "markdown",
   "metadata": {},
   "source": [
    "2. Dictionary\n"
   ]
  },
  {
   "cell_type": "code",
   "execution_count": 74,
   "metadata": {},
   "outputs": [
    {
     "name": "stdout",
     "output_type": "stream",
     "text": [
      "Examples of Dictionary data types\n",
      "{'Name': 'Gauresh', 'Subject': ['AI', 'ML']} is:  <class 'dict'>\n"
     ]
    }
   ],
   "source": [
    "print('Examples of Dictionary data types')\n",
    "Dict = {'Name': 'Gauresh', 'Subject': ['AI','ML']}  \n",
    "print(Dict,'is: ',type(Dict))    "
   ]
  },
  {
   "cell_type": "markdown",
   "metadata": {},
   "source": [
    "3. Boolean\n"
   ]
  },
  {
   "cell_type": "code",
   "execution_count": 75,
   "metadata": {},
   "outputs": [
    {
     "name": "stdout",
     "output_type": "stream",
     "text": [
      "Examples of Boolean data types\n",
      "True is:  <class 'bool'>\n",
      "False is:  <class 'bool'>\n"
     ]
    }
   ],
   "source": [
    "print('Examples of Boolean data types') \n",
    "print('True is: ',type(True)) \n",
    "print('False is: ',type(False)) "
   ]
  },
  {
   "cell_type": "markdown",
   "metadata": {},
   "source": [
    "4. Set\n"
   ]
  },
  {
   "cell_type": "code",
   "execution_count": 76,
   "metadata": {},
   "outputs": [
    {
     "name": "stdout",
     "output_type": "stream",
     "text": [
      "Examples of Set data types\n",
      "{1, 2, 4, 6, 'Gauresh', 'AI-ML', 'For'} is:  <class 'set'>\n"
     ]
    }
   ],
   "source": [
    "print('Examples of Set data types')\n",
    "set1 = set([1, 2, 'Gauresh', 4, 'For', 6, 'AI-ML'])  \n",
    "print(set1,'is: ',type(set1))  "
   ]
  },
  {
   "cell_type": "markdown",
   "metadata": {},
   "source": [
    "5. Sequence Type- String, List and Tuple\n"
   ]
  },
  {
   "cell_type": "code",
   "execution_count": 77,
   "metadata": {},
   "outputs": [
    {
     "name": "stdout",
     "output_type": "stream",
     "text": [
      "Examples of Sequence data types\n",
      "I'm a Gauresh is:  <class 'str'>\n",
      "['1', '15', 'AI-ML'] is:  <class 'list'>\n",
      "('lets', 'upgrage', '3') is:  <class 'tuple'>\n"
     ]
    }
   ],
   "source": [
    "print('Examples of Sequence data types')\n",
    "String1 = \"I'm a Gauresh\"\n",
    "print(String1,'is: ',type(String1)) \n",
    "\n",
    "List = [\"1\", \"15\", \"AI-ML\"]  \n",
    "print(List,'is: ',type(List))\n",
    "\n",
    "Tuple1 = ('lets', 'upgrage','3')  \n",
    "print(Tuple1,'is: ', type(Tuple1))  "
   ]
  },
  {
   "cell_type": "markdown",
   "metadata": {},
   "source": [
    "# Q7. Create a Markdown cell in jupyter and list the steps discussed in the session by Dr. Darshan Ingle sir to create Github profile and upload Githubs Assignment link.\n"
   ]
  },
  {
   "cell_type": "markdown",
   "metadata": {},
   "source": [
    "STEPS\n",
    "\n",
    "1. Go to https://github.com/\n",
    "\n",
    "2. Signin or Signup(for new account)\n",
    "\n",
    "3. Create a folder in your PC and save your assignment file.\n",
    "\n",
    "4. To create Repository:\n",
    "    On github account click on New Repository-\n",
    "    Name it as \"Letsupgrade AI-ML\"-\n",
    "    click on create respository\n",
    "\n",
    "5. To upload your Assignment:\n",
    "    Click on 'upload an existing file'-\n",
    "    Drag and drop your assignment file or click on 'choose your files'-\n",
    "    Click on 'Commit changes'\n",
    "\n",
    "6. To share your assignment: \n",
    "    Go to 'Repositories'-\n",
    "    open the repository file 'Letsipgrade AI-ML'-\n",
    "    open the folder and copy the URL-\n",
    "    Open the google form-\n",
    "    Fill the details also paste the URL-\n",
    "    Submit *after step7\n",
    "    \n",
    "7. To check your assignment is visible:\n",
    "    Paste the URL in another browser-\n",
    "    Your assignment will be visible.\n",
    "    \n",
    "    \n",
    "    \n",
    "    \n",
    "\n"
   ]
  },
  {
   "cell_type": "code",
   "execution_count": null,
   "metadata": {},
   "outputs": [],
   "source": []
  }
 ],
 "metadata": {
  "kernelspec": {
   "display_name": "Python 3",
   "language": "python",
   "name": "python3"
  },
  "language_info": {
   "codemirror_mode": {
    "name": "ipython",
    "version": 3
   },
   "file_extension": ".py",
   "mimetype": "text/x-python",
   "name": "python",
   "nbconvert_exporter": "python",
   "pygments_lexer": "ipython3",
   "version": "3.7.6"
  }
 },
 "nbformat": 4,
 "nbformat_minor": 4
}
