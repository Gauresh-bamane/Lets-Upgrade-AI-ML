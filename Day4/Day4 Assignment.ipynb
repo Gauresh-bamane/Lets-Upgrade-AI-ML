{
 "cells": [
  {
   "cell_type": "markdown",
   "metadata": {},
   "source": [
    "# Q1: Research on whether addition, subtraction, multiplication, division, floor division and module operations be performed on complex numbers. Based on your study, implement a Python program to demonstrate these operations.\n"
   ]
  },
  {
   "cell_type": "code",
   "execution_count": null,
   "metadata": {},
   "outputs": [],
   "source": [
    "print(\"Addition of two complex numbers : \",(4+3j)+(3-7j))\n",
    "print(\"Subtraction of two complex numbers : \",(4+3j)-(3-7j))\n",
    "print(\"Multiplication of two complex numbers : \",(4+3j)*(3-7j))\n",
    "print(\"Division of two complex numbers : \",(4+3j)/(3-7j))\n",
    "print(\"Can't take floor division of complex number\")\n",
    "print(\"can't module operation of complex numbers\")\n"
   ]
  },
  {
   "cell_type": "markdown",
   "metadata": {},
   "source": [
    "# Q2: Research on range() functions and its parameters. Create a markdown cell and write in your own words (no copy-paste from google please) what you understand about it. Implement a smallprogram of your choice on the same."
   ]
  },
  {
   "cell_type": "markdown",
   "metadata": {},
   "source": [
    "Range() is a function in Python which returns a sequence of numbers starting from 0 and increments to 1 until it reaches a specified number. We can use range in python to increment and decrement step values using positive and negative integers. The step value must not be zero. If a step is zero python raises a ValueError exception. The range function does not support float or non-integer numbers in the function. In the range() function it’s object can be accessed by its index value, both positive and negative indexing is supported by its object. \n"
   ]
  },
  {
   "cell_type": "code",
   "execution_count": null,
   "metadata": {},
   "outputs": [],
   "source": [
    "print(list(range(5))) \n",
    "print(list(range(5, 10)))\n",
    "print(list(range(-2, 2)))\n",
    "print(list(range(1, 20, 3)))\n",
    "print(list(range(20, 10, -1)))\n",
    "for i in range(5):\n",
    "    print(i)\n",
    "\n"
   ]
  },
  {
   "cell_type": "markdown",
   "metadata": {},
   "source": [
    "# Q3: Consider two numbers. Perform their subtraction and if the result of subtraction is greater than 25, print their multiplication result else print their division result.\n"
   ]
  },
  {
   "cell_type": "code",
   "execution_count": null,
   "metadata": {},
   "outputs": [],
   "source": [
    "A= int(input('Enter value for A:'))\n",
    "B= int(input('Enter value for B:'))\n",
    "C=A-B\n",
    "if C>25:\n",
    "    C=A*B\n",
    "    print('Since subtraction is greater than 25 multiplication of A and B is:',C)\n",
    "else :\n",
    "    C= A/B\n",
    "    print ('Since subtraction is less than 25 division of A and B is:',C)"
   ]
  },
  {
   "cell_type": "markdown",
   "metadata": {},
   "source": [
    "# Q4: Consider a list of 10 elements of integer values. If the number in the list is divisible by 2, print the result as \"square of that number minus 2\".\n"
   ]
  },
  {
   "cell_type": "code",
   "execution_count": null,
   "metadata": {},
   "outputs": [],
   "source": [
    "lst = [] \n",
    "for i in range(0, 10): \n",
    "    ele = int(input('Enter List of elements: '))\n",
    "    lst.append(ele) \n",
    "    \n",
    "result = list(filter(lambda x: (x % 2 == 0),lst))\n",
    "\n",
    "if result!=[]:\n",
    "    print('square of that number minus 2') \n"
   ]
  },
  {
   "cell_type": "markdown",
   "metadata": {},
   "source": [
    "# Q5: Consider a list of 10 elements. Print all the elements in the list which are greater than 7 when that number is divided 2.\n"
   ]
  },
  {
   "cell_type": "code",
   "execution_count": null,
   "metadata": {},
   "outputs": [],
   "source": [
    "lst = [] \n",
    "for i in range(0, 10): \n",
    "    ele = int(input('Enter List of elements: '))\n",
    "    lst.append(ele) \n",
    "    \n",
    "result = list(filter(lambda x: (x % 2 == 0),lst))\n",
    "\n",
    "f= [x for x in result if x>7]\n",
    "print(f) "
   ]
  }
 ],
 "metadata": {
  "kernelspec": {
   "display_name": "Python 3",
   "language": "python",
   "name": "python3"
  },
  "language_info": {
   "codemirror_mode": {
    "name": "ipython",
    "version": 3
   },
   "file_extension": ".py",
   "mimetype": "text/x-python",
   "name": "python",
   "nbconvert_exporter": "python",
   "pygments_lexer": "ipython3",
   "version": "3.7.6"
  }
 },
 "nbformat": 4,
 "nbformat_minor": 4
}
